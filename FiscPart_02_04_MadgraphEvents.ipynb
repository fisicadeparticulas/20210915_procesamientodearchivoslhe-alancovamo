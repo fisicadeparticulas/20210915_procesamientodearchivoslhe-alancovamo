{
  "nbformat": 4,
  "nbformat_minor": 0,
  "metadata": {
    "colab": {
      "name": "FiscPart_02_04_MadgraphEvents.ipynb",
      "provenance": [],
      "include_colab_link": true
    },
    "kernelspec": {
      "name": "python3",
      "display_name": "Python 3"
    },
    "language_info": {
      "name": "python"
    }
  },
  "cells": [
    {
      "cell_type": "markdown",
      "metadata": {
        "id": "view-in-github",
        "colab_type": "text"
      },
      "source": [
        "<a href=\"https://colab.research.google.com/github/fisicadeparticulas/20210915_procesamientodearchivoslhe-alancovamo/blob/main/FiscPart_02_04_MadgraphEvents.ipynb\" target=\"_parent\"><img src=\"https://colab.research.google.com/assets/colab-badge.svg\" alt=\"Open In Colab\"/></a>"
      ]
    },
    {
      "cell_type": "markdown",
      "metadata": {
        "id": "h1AnQBlUrmWK"
      },
      "source": [
        "# *** Procesando el archivo de salida de MadGraph en formato LHE usando bash.**"
      ]
    },
    {
      "cell_type": "markdown",
      "metadata": {
        "id": "QfZP-CDdvUEn"
      },
      "source": [
        "Usamos bash/shell para extraer los renglones que nos interesan del archivo \"*.lhe\", recuede que es posible que los archivos creados se borren cuando sale de la rutina. "
      ]
    },
    {
      "cell_type": "code",
      "metadata": {
        "id": "e6MaEmbIrxYP"
      },
      "source": [
        "%shell\n",
        "!cat /content/drive/MyDrive/unweighted_events.lhe | grep \"13  \" | awk '{print $7\", \"$8\", \"$9\", \"$10}' > /content/drive/MyDrive/eventos_pxpypzE.csv\n"
      ],
      "execution_count": 94,
      "outputs": []
    },
    {
      "cell_type": "markdown",
      "metadata": {
        "id": "gmQDegfdx86S"
      },
      "source": [
        "## Graficar los cuadri-vectores generados por MadGraph\n",
        "\n"
      ]
    },
    {
      "cell_type": "markdown",
      "metadata": {
        "id": "Rkif_7FGxgOH"
      },
      "source": [
        "Usamos python para gráficar el contenido del archivo cvs generado en el paso anterior."
      ]
    },
    {
      "cell_type": "code",
      "metadata": {
        "colab": {
          "base_uri": "https://localhost:8080/",
          "height": 545
        },
        "id": "AN42hy7E_KcC",
        "outputId": "bdf2b798-6298-4c9c-96db-614264f873ca"
      },
      "source": [
        "import pandas as pd\n",
        "import numpy as np\n",
        "import matplotlib.pyplot as plt\n",
        "from scipy.stats import norm\n",
        "import plotly.express as px\n",
        "\n",
        "\n",
        "events=pd.read_csv(\"/content/drive/MyDrive/eventos_pxpypzE.csv\") \n",
        "events.head()\n",
        "\n",
        "data = np.genfromtxt(\"/content/drive/MyDrive/eventos_pxpypzE.csv\", delimiter=\", \", names=[\"px\",\"py\",\"pz\",\"E\"] )\n",
        "\n",
        "plt.figure(0)\n",
        "plt.title('momento transverso')\n",
        "plt.hist(np.sqrt(data['px']*data['px']+data['py']*data['py']))\n",
        "plt.figure(1)\n",
        "plt.title('momento total')\n",
        "plt.hist(np.sqrt(data['px']*data['px']+data['py']*data['py']+data['pz']*data['pz']))\n",
        "plt.show()"
      ],
      "execution_count": 121,
      "outputs": [
        {
          "output_type": "display_data",
          "data": {
            "image/png": "[encoded data removed]",
            "text/plain": [
              "<Figure size 432x288 with 1 Axes>"
            ]
          },
          "metadata": {
            "needs_background": "light"
          }
        },
        {
          "output_type": "display_data",
          "data": {
            "image/png": "[encoded data removed]",
            "text/plain": [
              "<Figure size 432x288 with 1 Axes>"
            ]
          },
          "metadata": {
            "needs_background": "light"
          }
        }
      ]
    },
    {
      "cell_type": "markdown",
      "metadata": {
        "id": "ajhS91bZoi0i"
      },
      "source": [
        "# Generar el archivo que pone en un solo renglón la información de los dos muones."
      ]
    },
    {
      "cell_type": "markdown",
      "metadata": {
        "id": "nb0O5yt8xmfB"
      },
      "source": [
        "Usamos python para leer el archivo csv generado en el primer paso y crear un archivo que ponga en un solo renglón los datos de los dos muones en cada evento. Note que: se podría graficar directamente sin necesidad de crear el archivo. "
      ]
    },
    {
      "cell_type": "markdown",
      "metadata": {
        "id": "6wrQsGHmrLn9"
      },
      "source": [
        "**¡Por favor revise que los datos se están guardando correctamente!** es \n",
        "\n",
        "---\n",
        "\n",
        "posible que el código necesite algunos ajustes. "
      ]
    },
    {
      "cell_type": "code",
      "metadata": {
        "id": "gcNnrPS6NuV7",
        "colab": {
          "base_uri": "https://localhost:8080/"
        },
        "outputId": "8fcd3390-e610-4d03-cf87-e475d941cd33"
      },
      "source": [
        "\"\"\"\n",
        "Created on Wed Sep 15 17:01:01 2021\n",
        "@author: alancovamo/fisicaparticulas\n",
        "modified by isapedraza on September 17 : adding the file saving on drive. \n",
        "\"\"\"\n",
        "import pandas as pd\n",
        "import csv\n",
        "import numpy as np      \n",
        "import matplotlib.pyplot as plt\n",
        "from google.colab import drive\n",
        "drive.mount('/content/drive')\n",
        "\n",
        "#montamos los datos a la memoria\n",
        "df = pd.read_table('/content/drive/MyDrive/eventos_pxpypzE.csv',delimiter=',',header=None,dtype=np.float64)\n",
        "\n",
        "#localiza los renglones pares del arreglo df.\n",
        "df_1=df.iloc[lambda x: x.index % 2 == 0]\n",
        "#reinicia el indice del arreglo con los renglones pares del archivo original\n",
        "df_1=df_1.reset_index(drop=True)\n",
        "\n",
        "#localizar los renglones impares\n",
        "df_2=df.iloc[lambda x: x.index % 2 != 0]\n",
        "#reinicia el indice del arreglo  con los renglones impares del archivo original\n",
        "df_2=df_2.reset_index(drop=True)\n",
        "\n",
        "\n",
        "df_1.rename(columns= {df_1.columns[0]: 'px',\n",
        "                      df_1.columns[1]: 'py',\n",
        "                      df_1.columns[2]: 'pz',\n",
        "                      df_1.columns[3]: 'E'}, inplace=True)\n",
        "df_2.rename(columns= {df_2.columns[0]: 'px*',\n",
        "                      df_2.columns[1]: 'py*',\n",
        "                      df_2.columns[2]: 'pz*',\n",
        "                      df_2.columns[3]: 'E*'}, inplace=True)\n",
        "df_3=df_1.join(df_2)\n",
        "print(df_3.head())\n",
        "\n",
        "df_3.to_csv('/content/drive/MyDrive/mumu.csv')\n",
        "\n"
      ],
      "execution_count": 102,
      "outputs": [
        {
          "output_type": "stream",
          "name": "stdout",
          "text": [
            "Drive already mounted at /content/drive; to attempt to forcibly remount, call drive.mount(\"/content/drive\", force_remount=True).\n",
            "          px         py          pz  ...        py*         pz*          E*\n",
            "0 -25.416007  35.010752   86.334113  ... -35.010752   39.850978   58.820291\n",
            "1  15.612459 -33.486087   15.291070  ...  33.486087  102.211484  108.684196\n",
            "2 -12.683705  15.981324  111.997587  ... -15.981324  -11.016872   23.187293\n",
            "3  13.174934  42.043646  -19.199519  ... -42.043646  -42.374808   61.129955\n",
            "4 -37.019273  -4.414691   77.437419  ...   4.414691  156.310601  160.695115\n",
            "\n",
            "[5 rows x 8 columns]\n"
          ]
        }
      ]
    },
    {
      "cell_type": "markdown",
      "metadata": {
        "id": "0M-ddKE0yJGx"
      },
      "source": [
        "# Gráfica de la masa invariante de la suma de los cuadrivetores de los dos muones del evento. "
      ]
    },
    {
      "cell_type": "code",
      "metadata": {
        "id": "hiaCX4Q1o_Uw",
        "colab": {
          "base_uri": "https://localhost:8080/",
          "height": 348
        },
        "outputId": "55b03397-8bd8-4bad-dee7-477ce1581dd6"
      },
      "source": [
        "df = pd.read_table('/content/drive/MyDrive/mumu.csv',delimiter=',',index_col=0,dtype=np.float64)\n",
        "p_1=np.sqrt((df['E']+df['E*'])**2-(df['px']+df['px*'] )**2-(df['py']+df['py*']) **2-(df['pz']+df['pz*'])**2)\n",
        "p_1.rename\n",
        "\n",
        "plt.title('Masa invariante')\n",
        "plt.hist(p_1)\n",
        "\n"
      ],
      "execution_count": 133,
      "outputs": [
        {
          "output_type": "execute_result",
          "data": {
            "text/plain": [
              "(array([  43.,   57.,   95.,  286., 4342., 4765.,  278.,   71.,   41.,\n",
              "          22.]), array([ 54.79257599,  62.04608456,  69.29959314,  76.55310171,\n",
              "         83.80661029,  91.06011886,  98.31362744, 105.56713601,\n",
              "        112.82064459, 120.07415316, 127.32766173]), <a list of 10 Patch objects>)"
            ]
          },
          "metadata": {},
          "execution_count": 133
        },
        {
          "output_type": "display_data",
          "data": {
            "image/png": "[encoded data removed]",
            "text/plain": [
              "<Figure size 432x288 with 1 Axes>"
            ]
          },
          "metadata": {
            "needs_background": "light"
          }
        }
      ]
    }
  ]
}